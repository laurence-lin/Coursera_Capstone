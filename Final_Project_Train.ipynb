{
  "nbformat": 4,
  "nbformat_minor": 0,
  "metadata": {
    "colab": {
      "name": "Final_Project_Train.ipynb",
      "provenance": [],
      "authorship_tag": "ABX9TyP1lCHM5ERf0t1c6k/tZohk",
      "include_colab_link": true
    },
    "kernelspec": {
      "name": "python3",
      "display_name": "Python 3"
    }
  },
  "cells": [
    {
      "cell_type": "markdown",
      "metadata": {
        "id": "view-in-github",
        "colab_type": "text"
      },
      "source": [
        "<a href=\"https://colab.research.google.com/github/laurence-lin/Coursera_Capstone/blob/master/Final_Project_Train.ipynb\" target=\"_parent\"><img src=\"https://colab.research.google.com/assets/colab-badge.svg\" alt=\"Open In Colab\"/></a>"
      ]
    },
    {
      "cell_type": "code",
      "metadata": {
        "id": "ddt8Op4bSbIo",
        "colab_type": "code",
        "colab": {
          "base_uri": "https://localhost:8080/",
          "height": 34
        },
        "outputId": "9c9e1fe9-2808-4261-e9eb-74ab542939c1"
      },
      "source": [
        "import numpy as np\n",
        "import pandas as pd\n",
        "\n",
        "import matplotlib.pyplot as plt\n",
        "import seaborn as sns\n",
        "\n",
        "import sklearn\n",
        "from sklearn.preprocessing import MinMaxScaler, PolynomialFeatures\n",
        "from sklearn.model_selection import train_test_split\n",
        "from sklearn.linear_model import LinearRegression\n",
        "from sklearn.tree import DecisionTreeRegressor\n",
        "from sklearn.svm import SVR\n",
        "from sklearn.neural_network import MLPRegressor\n",
        "\n",
        "import gc\n",
        "\n",
        "print('Library imported.')\n",
        "\n",
        "pd.set_option('display.max_columns', 500)\n",
        "pd.set_option('display.max_colwidth', 500)\n",
        "\n",
        "from google.colab import files\n",
        "\n"
      ],
      "execution_count": 4,
      "outputs": [
        {
          "output_type": "stream",
          "text": [
            "Library imported.\n"
          ],
          "name": "stdout"
        }
      ]
    },
    {
      "cell_type": "code",
      "metadata": {
        "id": "h5UREuYDTxVN",
        "colab_type": "code",
        "colab": {
          "resources": {
            "http://localhost:8080/nbextensions/google.colab/files.js": {
              "data": "Ly8gQ29weXJpZ2h0IDIwMTcgR29vZ2xlIExMQwovLwovLyBMaWNlbnNlZCB1bmRlciB0aGUgQXBhY2hlIExpY2Vuc2UsIFZlcnNpb24gMi4wICh0aGUgIkxpY2Vuc2UiKTsKLy8geW91IG1heSBub3QgdXNlIHRoaXMgZmlsZSBleGNlcHQgaW4gY29tcGxpYW5jZSB3aXRoIHRoZSBMaWNlbnNlLgovLyBZb3UgbWF5IG9idGFpbiBhIGNvcHkgb2YgdGhlIExpY2Vuc2UgYXQKLy8KLy8gICAgICBodHRwOi8vd3d3LmFwYWNoZS5vcmcvbGljZW5zZXMvTElDRU5TRS0yLjAKLy8KLy8gVW5sZXNzIHJlcXVpcmVkIGJ5IGFwcGxpY2FibGUgbGF3IG9yIGFncmVlZCB0byBpbiB3cml0aW5nLCBzb2Z0d2FyZQovLyBkaXN0cmlidXRlZCB1bmRlciB0aGUgTGljZW5zZSBpcyBkaXN0cmlidXRlZCBvbiBhbiAiQVMgSVMiIEJBU0lTLAovLyBXSVRIT1VUIFdBUlJBTlRJRVMgT1IgQ09ORElUSU9OUyBPRiBBTlkgS0lORCwgZWl0aGVyIGV4cHJlc3Mgb3IgaW1wbGllZC4KLy8gU2VlIHRoZSBMaWNlbnNlIGZvciB0aGUgc3BlY2lmaWMgbGFuZ3VhZ2UgZ292ZXJuaW5nIHBlcm1pc3Npb25zIGFuZAovLyBsaW1pdGF0aW9ucyB1bmRlciB0aGUgTGljZW5zZS4KCi8qKgogKiBAZmlsZW92ZXJ2aWV3IEhlbHBlcnMgZm9yIGdvb2dsZS5jb2xhYiBQeXRob24gbW9kdWxlLgogKi8KKGZ1bmN0aW9uKHNjb3BlKSB7CmZ1bmN0aW9uIHNwYW4odGV4dCwgc3R5bGVBdHRyaWJ1dGVzID0ge30pIHsKICBjb25zdCBlbGVtZW50ID0gZG9jdW1lbnQuY3JlYXRlRWxlbWVudCgnc3BhbicpOwogIGVsZW1lbnQudGV4dENvbnRlbnQgPSB0ZXh0OwogIGZvciAoY29uc3Qga2V5IG9mIE9iamVjdC5rZXlzKHN0eWxlQXR0cmlidXRlcykpIHsKICAgIGVsZW1lbnQuc3R5bGVba2V5XSA9IHN0eWxlQXR0cmlidXRlc1trZXldOwogIH0KICByZXR1cm4gZWxlbWVudDsKfQoKLy8gTWF4IG51bWJlciBvZiBieXRlcyB3aGljaCB3aWxsIGJlIHVwbG9hZGVkIGF0IGEgdGltZS4KY29uc3QgTUFYX1BBWUxPQURfU0laRSA9IDEwMCAqIDEwMjQ7CgpmdW5jdGlvbiBfdXBsb2FkRmlsZXMoaW5wdXRJZCwgb3V0cHV0SWQpIHsKICBjb25zdCBzdGVwcyA9IHVwbG9hZEZpbGVzU3RlcChpbnB1dElkLCBvdXRwdXRJZCk7CiAgY29uc3Qgb3V0cHV0RWxlbWVudCA9IGRvY3VtZW50LmdldEVsZW1lbnRCeUlkKG91dHB1dElkKTsKICAvLyBDYWNoZSBzdGVwcyBvbiB0aGUgb3V0cHV0RWxlbWVudCB0byBtYWtlIGl0IGF2YWlsYWJsZSBmb3IgdGhlIG5leHQgY2FsbAogIC8vIHRvIHVwbG9hZEZpbGVzQ29udGludWUgZnJvbSBQeXRob24uCiAgb3V0cHV0RWxlbWVudC5zdGVwcyA9IHN0ZXBzOwoKICByZXR1cm4gX3VwbG9hZEZpbGVzQ29udGludWUob3V0cHV0SWQpOwp9CgovLyBUaGlzIGlzIHJvdWdobHkgYW4gYXN5bmMgZ2VuZXJhdG9yIChub3Qgc3VwcG9ydGVkIGluIHRoZSBicm93c2VyIHlldCksCi8vIHdoZXJlIHRoZXJlIGFyZSBtdWx0aXBsZSBhc3luY2hyb25vdXMgc3RlcHMgYW5kIHRoZSBQeXRob24gc2lkZSBpcyBnb2luZwovLyB0byBwb2xsIGZvciBjb21wbGV0aW9uIG9mIGVhY2ggc3RlcC4KLy8gVGhpcyB1c2VzIGEgUHJvbWlzZSB0byBibG9jayB0aGUgcHl0aG9uIHNpZGUgb24gY29tcGxldGlvbiBvZiBlYWNoIHN0ZXAsCi8vIHRoZW4gcGFzc2VzIHRoZSByZXN1bHQgb2YgdGhlIHByZXZpb3VzIHN0ZXAgYXMgdGhlIGlucHV0IHRvIHRoZSBuZXh0IHN0ZXAuCmZ1bmN0aW9uIF91cGxvYWRGaWxlc0NvbnRpbnVlKG91dHB1dElkKSB7CiAgY29uc3Qgb3V0cHV0RWxlbWVudCA9IGRvY3VtZW50LmdldEVsZW1lbnRCeUlkKG91dHB1dElkKTsKICBjb25zdCBzdGVwcyA9IG91dHB1dEVsZW1lbnQuc3RlcHM7CgogIGNvbnN0IG5leHQgPSBzdGVwcy5uZXh0KG91dHB1dEVsZW1lbnQubGFzdFByb21pc2VWYWx1ZSk7CiAgcmV0dXJuIFByb21pc2UucmVzb2x2ZShuZXh0LnZhbHVlLnByb21pc2UpLnRoZW4oKHZhbHVlKSA9PiB7CiAgICAvLyBDYWNoZSB0aGUgbGFzdCBwcm9taXNlIHZhbHVlIHRvIG1ha2UgaXQgYXZhaWxhYmxlIHRvIHRoZSBuZXh0CiAgICAvLyBzdGVwIG9mIHRoZSBnZW5lcmF0b3IuCiAgICBvdXRwdXRFbGVtZW50Lmxhc3RQcm9taXNlVmFsdWUgPSB2YWx1ZTsKICAgIHJldHVybiBuZXh0LnZhbHVlLnJlc3BvbnNlOwogIH0pOwp9CgovKioKICogR2VuZXJhdG9yIGZ1bmN0aW9uIHdoaWNoIGlzIGNhbGxlZCBiZXR3ZWVuIGVhY2ggYXN5bmMgc3RlcCBvZiB0aGUgdXBsb2FkCiAqIHByb2Nlc3MuCiAqIEBwYXJhbSB7c3RyaW5nfSBpbnB1dElkIEVsZW1lbnQgSUQgb2YgdGhlIGlucHV0IGZpbGUgcGlja2VyIGVsZW1lbnQuCiAqIEBwYXJhbSB7c3RyaW5nfSBvdXRwdXRJZCBFbGVtZW50IElEIG9mIHRoZSBvdXRwdXQgZGlzcGxheS4KICogQHJldHVybiB7IUl0ZXJhYmxlPCFPYmplY3Q+fSBJdGVyYWJsZSBvZiBuZXh0IHN0ZXBzLgogKi8KZnVuY3Rpb24qIHVwbG9hZEZpbGVzU3RlcChpbnB1dElkLCBvdXRwdXRJZCkgewogIGNvbnN0IGlucHV0RWxlbWVudCA9IGRvY3VtZW50LmdldEVsZW1lbnRCeUlkKGlucHV0SWQpOwogIGlucHV0RWxlbWVudC5kaXNhYmxlZCA9IGZhbHNlOwoKICBjb25zdCBvdXRwdXRFbGVtZW50ID0gZG9jdW1lbnQuZ2V0RWxlbWVudEJ5SWQob3V0cHV0SWQpOwogIG91dHB1dEVsZW1lbnQuaW5uZXJIVE1MID0gJyc7CgogIGNvbnN0IHBpY2tlZFByb21pc2UgPSBuZXcgUHJvbWlzZSgocmVzb2x2ZSkgPT4gewogICAgaW5wdXRFbGVtZW50LmFkZEV2ZW50TGlzdGVuZXIoJ2NoYW5nZScsIChlKSA9PiB7CiAgICAgIHJlc29sdmUoZS50YXJnZXQuZmlsZXMpOwogICAgfSk7CiAgfSk7CgogIGNvbnN0IGNhbmNlbCA9IGRvY3VtZW50LmNyZWF0ZUVsZW1lbnQoJ2J1dHRvbicpOwogIGlucHV0RWxlbWVudC5wYXJlbnRFbGVtZW50LmFwcGVuZENoaWxkKGNhbmNlbCk7CiAgY2FuY2VsLnRleHRDb250ZW50ID0gJ0NhbmNlbCB1cGxvYWQnOwogIGNvbnN0IGNhbmNlbFByb21pc2UgPSBuZXcgUHJvbWlzZSgocmVzb2x2ZSkgPT4gewogICAgY2FuY2VsLm9uY2xpY2sgPSAoKSA9PiB7CiAgICAgIHJlc29sdmUobnVsbCk7CiAgICB9OwogIH0pOwoKICAvLyBXYWl0IGZvciB0aGUgdXNlciB0byBwaWNrIHRoZSBmaWxlcy4KICBjb25zdCBmaWxlcyA9IHlpZWxkIHsKICAgIHByb21pc2U6IFByb21pc2UucmFjZShbcGlja2VkUHJvbWlzZSwgY2FuY2VsUHJvbWlzZV0pLAogICAgcmVzcG9uc2U6IHsKICAgICAgYWN0aW9uOiAnc3RhcnRpbmcnLAogICAgfQogIH07CgogIGNhbmNlbC5yZW1vdmUoKTsKCiAgLy8gRGlzYWJsZSB0aGUgaW5wdXQgZWxlbWVudCBzaW5jZSBmdXJ0aGVyIHBpY2tzIGFyZSBub3QgYWxsb3dlZC4KICBpbnB1dEVsZW1lbnQuZGlzYWJsZWQgPSB0cnVlOwoKICBpZiAoIWZpbGVzKSB7CiAgICByZXR1cm4gewogICAgICByZXNwb25zZTogewogICAgICAgIGFjdGlvbjogJ2NvbXBsZXRlJywKICAgICAgfQogICAgfTsKICB9CgogIGZvciAoY29uc3QgZmlsZSBvZiBmaWxlcykgewogICAgY29uc3QgbGkgPSBkb2N1bWVudC5jcmVhdGVFbGVtZW50KCdsaScpOwogICAgbGkuYXBwZW5kKHNwYW4oZmlsZS5uYW1lLCB7Zm9udFdlaWdodDogJ2JvbGQnfSkpOwogICAgbGkuYXBwZW5kKHNwYW4oCiAgICAgICAgYCgke2ZpbGUudHlwZSB8fCAnbi9hJ30pIC0gJHtmaWxlLnNpemV9IGJ5dGVzLCBgICsKICAgICAgICBgbGFzdCBtb2RpZmllZDogJHsKICAgICAgICAgICAgZmlsZS5sYXN0TW9kaWZpZWREYXRlID8gZmlsZS5sYXN0TW9kaWZpZWREYXRlLnRvTG9jYWxlRGF0ZVN0cmluZygpIDoKICAgICAgICAgICAgICAgICAgICAgICAgICAgICAgICAgICAgJ24vYSd9IC0gYCkpOwogICAgY29uc3QgcGVyY2VudCA9IHNwYW4oJzAlIGRvbmUnKTsKICAgIGxpLmFwcGVuZENoaWxkKHBlcmNlbnQpOwoKICAgIG91dHB1dEVsZW1lbnQuYXBwZW5kQ2hpbGQobGkpOwoKICAgIGNvbnN0IGZpbGVEYXRhUHJvbWlzZSA9IG5ldyBQcm9taXNlKChyZXNvbHZlKSA9PiB7CiAgICAgIGNvbnN0IHJlYWRlciA9IG5ldyBGaWxlUmVhZGVyKCk7CiAgICAgIHJlYWRlci5vbmxvYWQgPSAoZSkgPT4gewogICAgICAgIHJlc29sdmUoZS50YXJnZXQucmVzdWx0KTsKICAgICAgfTsKICAgICAgcmVhZGVyLnJlYWRBc0FycmF5QnVmZmVyKGZpbGUpOwogICAgfSk7CiAgICAvLyBXYWl0IGZvciB0aGUgZGF0YSB0byBiZSByZWFkeS4KICAgIGxldCBmaWxlRGF0YSA9IHlpZWxkIHsKICAgICAgcHJvbWlzZTogZmlsZURhdGFQcm9taXNlLAogICAgICByZXNwb25zZTogewogICAgICAgIGFjdGlvbjogJ2NvbnRpbnVlJywKICAgICAgfQogICAgfTsKCiAgICAvLyBVc2UgYSBjaHVua2VkIHNlbmRpbmcgdG8gYXZvaWQgbWVzc2FnZSBzaXplIGxpbWl0cy4gU2VlIGIvNjIxMTU2NjAuCiAgICBsZXQgcG9zaXRpb24gPSAwOwogICAgd2hpbGUgKHBvc2l0aW9uIDwgZmlsZURhdGEuYnl0ZUxlbmd0aCkgewogICAgICBjb25zdCBsZW5ndGggPSBNYXRoLm1pbihmaWxlRGF0YS5ieXRlTGVuZ3RoIC0gcG9zaXRpb24sIE1BWF9QQVlMT0FEX1NJWkUpOwogICAgICBjb25zdCBjaHVuayA9IG5ldyBVaW50OEFycmF5KGZpbGVEYXRhLCBwb3NpdGlvbiwgbGVuZ3RoKTsKICAgICAgcG9zaXRpb24gKz0gbGVuZ3RoOwoKICAgICAgY29uc3QgYmFzZTY0ID0gYnRvYShTdHJpbmcuZnJvbUNoYXJDb2RlLmFwcGx5KG51bGwsIGNodW5rKSk7CiAgICAgIHlpZWxkIHsKICAgICAgICByZXNwb25zZTogewogICAgICAgICAgYWN0aW9uOiAnYXBwZW5kJywKICAgICAgICAgIGZpbGU6IGZpbGUubmFtZSwKICAgICAgICAgIGRhdGE6IGJhc2U2NCwKICAgICAgICB9LAogICAgICB9OwogICAgICBwZXJjZW50LnRleHRDb250ZW50ID0KICAgICAgICAgIGAke01hdGgucm91bmQoKHBvc2l0aW9uIC8gZmlsZURhdGEuYnl0ZUxlbmd0aCkgKiAxMDApfSUgZG9uZWA7CiAgICB9CiAgfQoKICAvLyBBbGwgZG9uZS4KICB5aWVsZCB7CiAgICByZXNwb25zZTogewogICAgICBhY3Rpb246ICdjb21wbGV0ZScsCiAgICB9CiAgfTsKfQoKc2NvcGUuZ29vZ2xlID0gc2NvcGUuZ29vZ2xlIHx8IHt9OwpzY29wZS5nb29nbGUuY29sYWIgPSBzY29wZS5nb29nbGUuY29sYWIgfHwge307CnNjb3BlLmdvb2dsZS5jb2xhYi5fZmlsZXMgPSB7CiAgX3VwbG9hZEZpbGVzLAogIF91cGxvYWRGaWxlc0NvbnRpbnVlLAp9Owp9KShzZWxmKTsK",
              "ok": true,
              "headers": [
                [
                  "content-type",
                  "application/javascript"
                ]
              ],
              "status": 200,
              "status_text": ""
            }
          },
          "base_uri": "https://localhost:8080/",
          "height": 251
        },
        "outputId": "3012a3a6-d195-4327-a371-4f8af6cf85e3"
      },
      "source": [
        "files.upload()\n",
        "df_ny_data = pd.read_csv('df_ny_data.csv', index_col = False)\n",
        "df_ny_data.head()"
      ],
      "execution_count": 7,
      "outputs": [
        {
          "output_type": "display_data",
          "data": {
            "text/html": [
              "\n",
              "     <input type=\"file\" id=\"files-6bee2397-b3a6-4b24-b7a6-9affc86dd17e\" name=\"files[]\" multiple disabled\n",
              "        style=\"border:none\" />\n",
              "     <output id=\"result-6bee2397-b3a6-4b24-b7a6-9affc86dd17e\">\n",
              "      Upload widget is only available when the cell has been executed in the\n",
              "      current browser session. Please rerun this cell to enable.\n",
              "      </output>\n",
              "      <script src=\"/nbextensions/google.colab/files.js\"></script> "
            ],
            "text/plain": [
              "<IPython.core.display.HTML object>"
            ]
          },
          "metadata": {
            "tags": []
          }
        },
        {
          "output_type": "stream",
          "text": [
            "Saving df_ny_data.csv to df_ny_data.csv\n"
          ],
          "name": "stdout"
        },
        {
          "output_type": "execute_result",
          "data": {
            "text/html": [
              "<div>\n",
              "<style scoped>\n",
              "    .dataframe tbody tr th:only-of-type {\n",
              "        vertical-align: middle;\n",
              "    }\n",
              "\n",
              "    .dataframe tbody tr th {\n",
              "        vertical-align: top;\n",
              "    }\n",
              "\n",
              "    .dataframe thead th {\n",
              "        text-align: right;\n",
              "    }\n",
              "</style>\n",
              "<table border=\"1\" class=\"dataframe\">\n",
              "  <thead>\n",
              "    <tr style=\"text-align: right;\">\n",
              "      <th></th>\n",
              "      <th>Density</th>\n",
              "      <th>neighbor_entropy</th>\n",
              "      <th>competitiveness</th>\n",
              "      <th>other_food_neighbor</th>\n",
              "      <th>food_neighbor_rate</th>\n",
              "      <th>residence_venue</th>\n",
              "      <th>comments</th>\n",
              "      <th>ratings</th>\n",
              "      <th>total_compet_rate</th>\n",
              "      <th>weight_comment</th>\n",
              "    </tr>\n",
              "  </thead>\n",
              "  <tbody>\n",
              "    <tr>\n",
              "      <th>0</th>\n",
              "      <td>41.0</td>\n",
              "      <td>2.466631</td>\n",
              "      <td>-0.268293</td>\n",
              "      <td>25</td>\n",
              "      <td>0.609756</td>\n",
              "      <td>3</td>\n",
              "      <td>318</td>\n",
              "      <td>3.3</td>\n",
              "      <td>0.878049</td>\n",
              "      <td>1049.4</td>\n",
              "    </tr>\n",
              "    <tr>\n",
              "      <th>1</th>\n",
              "      <td>43.0</td>\n",
              "      <td>3.150678</td>\n",
              "      <td>-0.186047</td>\n",
              "      <td>29</td>\n",
              "      <td>0.674419</td>\n",
              "      <td>2</td>\n",
              "      <td>622</td>\n",
              "      <td>3.7</td>\n",
              "      <td>0.860465</td>\n",
              "      <td>2301.4</td>\n",
              "    </tr>\n",
              "    <tr>\n",
              "      <th>2</th>\n",
              "      <td>26.0</td>\n",
              "      <td>2.971377</td>\n",
              "      <td>-0.230769</td>\n",
              "      <td>20</td>\n",
              "      <td>0.769231</td>\n",
              "      <td>5</td>\n",
              "      <td>1644</td>\n",
              "      <td>3.8</td>\n",
              "      <td>1.000000</td>\n",
              "      <td>6247.2</td>\n",
              "    </tr>\n",
              "    <tr>\n",
              "      <th>3</th>\n",
              "      <td>26.0</td>\n",
              "      <td>2.971377</td>\n",
              "      <td>-0.230769</td>\n",
              "      <td>20</td>\n",
              "      <td>0.769231</td>\n",
              "      <td>5</td>\n",
              "      <td>1644</td>\n",
              "      <td>3.8</td>\n",
              "      <td>1.000000</td>\n",
              "      <td>6247.2</td>\n",
              "    </tr>\n",
              "    <tr>\n",
              "      <th>4</th>\n",
              "      <td>15.0</td>\n",
              "      <td>2.488328</td>\n",
              "      <td>-0.200000</td>\n",
              "      <td>8</td>\n",
              "      <td>0.533333</td>\n",
              "      <td>5</td>\n",
              "      <td>652</td>\n",
              "      <td>3.9</td>\n",
              "      <td>0.733333</td>\n",
              "      <td>2542.8</td>\n",
              "    </tr>\n",
              "  </tbody>\n",
              "</table>\n",
              "</div>"
            ],
            "text/plain": [
              "   Density  neighbor_entropy  competitiveness  other_food_neighbor  \\\n",
              "0     41.0          2.466631        -0.268293                   25   \n",
              "1     43.0          3.150678        -0.186047                   29   \n",
              "2     26.0          2.971377        -0.230769                   20   \n",
              "3     26.0          2.971377        -0.230769                   20   \n",
              "4     15.0          2.488328        -0.200000                    8   \n",
              "\n",
              "   food_neighbor_rate  residence_venue  comments  ratings  total_compet_rate  \\\n",
              "0            0.609756                3       318      3.3           0.878049   \n",
              "1            0.674419                2       622      3.7           0.860465   \n",
              "2            0.769231                5      1644      3.8           1.000000   \n",
              "3            0.769231                5      1644      3.8           1.000000   \n",
              "4            0.533333                5       652      3.9           0.733333   \n",
              "\n",
              "   weight_comment  \n",
              "0          1049.4  \n",
              "1          2301.4  \n",
              "2          6247.2  \n",
              "3          6247.2  \n",
              "4          2542.8  "
            ]
          },
          "metadata": {
            "tags": []
          },
          "execution_count": 7
        }
      ]
    },
    {
      "cell_type": "code",
      "metadata": {
        "id": "GS7v7CrgTH-w",
        "colab_type": "code",
        "colab": {
          "base_uri": "https://localhost:8080/",
          "height": 34
        },
        "outputId": "29dd70b0-963d-4321-fc2c-9e1c4619b393"
      },
      "source": [
        "# In this cell, define the models and preprocessing function\n",
        "from sklearn.linear_model import LinearRegression, Lasso, Ridge\n",
        "from sklearn.svm import SVR\n",
        "from sklearn.tree import DecisionTreeRegressor\n",
        "from sklearn.neural_network import MLPRegressor\n",
        "from sklearn.preprocessing import MinMaxScaler\n",
        "from sklearn.metrics import ndcg_score\n",
        "\n",
        "print('Candidate models loaded.')\n",
        "\n",
        "#Test the efficiency of each feature, assess the performance\n",
        "# Define metrics\n",
        "from scipy.stats import rankdata\n",
        "import random\n",
        "from numpy.random import permutation\n",
        "\n",
        "scaler = MinMaxScaler()\n",
        "\n",
        "def preprocessing(df, feature, degree, interaction_only = False):\n",
        "    # create training features, scaling, and target value\n",
        "    # df: dataframe containing all features and target\n",
        "    # degree: degree for polynomial features\n",
        "    # feature: list containing selected feature for training\n",
        "    # return: poly_feature, y_true (2D shape)\n",
        "\n",
        "    df_y = df['comments'].values.reshape(-1, 1)\n",
        "\n",
        "    if len(feature) == 1:\n",
        "       df_x = df[feature].values.reshape(-1, 1)\n",
        "    else:\n",
        "       df_x = df[feature]\n",
        "    \n",
        "    #scaling\n",
        "    scaler = MinMaxScaler()\n",
        "    df_x = scaler.fit_transform(df_x)\n",
        "    df_y = scaler.fit_transform(df_y)\n",
        "\n",
        "    # Create polynomial feature\n",
        "    x_data = df_x\n",
        "    poly = PolynomialFeatures(degree = degree, interaction_only = interaction_only) # require 2D input\n",
        "    poly_x = poly.fit_transform(x_data)\n",
        "    y_data = df_y.reshape(-1, 1)\n",
        "\n",
        "    return poly_x, y_data\n",
        "\n"
      ],
      "execution_count": 9,
      "outputs": [
        {
          "output_type": "stream",
          "text": [
            "Candidate models loaded.\n"
          ],
          "name": "stdout"
        }
      ]
    },
    {
      "cell_type": "code",
      "metadata": {
        "id": "w8Cp3MMWTfpW",
        "colab_type": "code",
        "colab": {
          "base_uri": "https://localhost:8080/",
          "height": 84
        },
        "outputId": "760b0452-c035-4bef-82b2-fda6e54b55a0"
      },
      "source": [
        "# Combine multiple geographic features\n",
        "features = ['Density', 'competitiveness', 'other_food_neighbor', 'food_neighbor_rate', 'total_compet_rate']\n",
        "poly_x, y_data = preprocessing(df_ny_data, features, 20, False)\n",
        "\n",
        "lr = Ridge(alpha = 0.01)\n",
        "mean_score = 0\n",
        "mean_rand_score = 0\n",
        "iterations = 1000\n",
        "\n",
        "test_size = 0.12\n",
        "print('Training size:', int(poly_x.shape[0]*(1 - test_size) ))\n",
        "print('Testing size:', int(len(y_data)*test_size))\n",
        "\n",
        "for iterate in range(iterations):\n",
        "    x_train, x_test, y_train, y_test = train_test_split(poly_x, y_data, test_size = test_size)\n",
        "\n",
        "    lr.fit(x_train, y_train)\n",
        "    predict_score = lr.predict(x_test)\n",
        "    \n",
        "    score = ndcg_score([list(y_test.flatten())], [list(predict_score.flatten())], 3)\n",
        "    mean_score += score\n",
        "\n",
        "    rand_score = [np.random.uniform(y_test.min(), y_test.max()) for i in range(len(y_test))]\n",
        "    rand_score = ndcg_score([list(y_test.flatten())], [rand_score], 3)\n",
        "    mean_rand_score += rand_score  \n",
        "    \n",
        "mean_score = mean_score / iterations\n",
        "mean_rand_score = mean_rand_score/ iterations\n",
        "print('Mean score = ', mean_score)\n",
        "print('Random rank score = ', mean_rand_score)"
      ],
      "execution_count": 10,
      "outputs": [
        {
          "output_type": "stream",
          "text": [
            "Training size: 44\n",
            "Testing size: 6\n",
            "Mean score =  0.7960497095235736\n",
            "Random rank score =  0.7009245684213908\n"
          ],
          "name": "stdout"
        }
      ]
    },
    {
      "cell_type": "code",
      "metadata": {
        "id": "5iycNI0CTuEk",
        "colab_type": "code",
        "colab": {}
      },
      "source": [
        "columns = ['LR', 'DecirionTree', 'SVR', 'Neural Net']\n",
        "df_combine_perform = pd.DataFrame(index = ['NDCG@k of combine features'], columns = columns)\n",
        "df_combine_perform.loc[0, 'LR'] = mean_score"
      ],
      "execution_count": 11,
      "outputs": []
    },
    {
      "cell_type": "markdown",
      "metadata": {
        "id": "KaaaneYoUoht",
        "colab_type": "text"
      },
      "source": [
        "###The combined geographic features do not increase the performance significantly than the best result of individual feature.\n",
        "\n",
        "##We test the model on location data of another city: Toronto, to see if data features in another city represents similar information."
      ]
    },
    {
      "cell_type": "code",
      "metadata": {
        "id": "x3YVLxKcUlMv",
        "colab_type": "code",
        "colab": {}
      },
      "source": [
        "# test on toronto data\n",
        "lr = Ridge(alpha = 0.01)\n",
        "lr.fit(poly_x, y_data) # fit on whole new york data\n",
        "\n",
        "df_to_data['total_compet_rate'] = df_to_data['food_neighbor_rate'] - df_to_data['competitiveness']\n",
        "poly_x_to, y_data_to = preprocessing(df_to_data, features, 20)\n",
        "y_pred = lr.predict(poly_x_to)\n",
        "score = ndcg_score([list(y_data_to.flatten())], [list(y_pred.flatten())], 10)\n",
        "print('Predict score on toronto:', score)\n",
        "\n",
        "rand_score = [np.random.uniform(0, 1) for i in range(len(y_data_to))]\n",
        "rand_score = ndcg_score([list(y_data_to.flatten())], [rand_score], 10)\n",
        "print('Random score:', rand_score)  "
      ],
      "execution_count": null,
      "outputs": []
    },
    {
      "cell_type": "markdown",
      "metadata": {
        "id": "9t6WMuxfU7vl",
        "colab_type": "text"
      },
      "source": [
        "###Model in New york data don't work well on Toronto data. It seems venue data information within one city couldn't be applied on another city directly.\n",
        "\n",
        "###Now, we compare the performance of different models on the combined features"
      ]
    },
    {
      "cell_type": "code",
      "metadata": {
        "id": "3L09zcDdUo45",
        "colab_type": "code",
        "colab": {}
      },
      "source": [
        "poly_x, y_data = preprocessing(df_ny_data, features, 1)\n",
        "\n",
        "regressor = DecisionTreeRegressor(max_depth = 30)\n",
        "\n",
        "mean_score = 0\n",
        "mean_rand_score = 0\n",
        "\n",
        "print('Train size:', int(poly_x.shape[0]*(1- test_size) ))\n",
        "print('Test size: ', int(len(y_data)*test_size))\n",
        "\n",
        "iterations = 1000\n",
        "for iterate in range(iterations):\n",
        "    x_train, x_test, y_train, y_test = train_test_split(poly_x, y_data, test_size = 0.12)\n",
        "\n",
        "    regressor.fit(x_train, y_train)\n",
        "    predict_score = regressor.predict(x_test)\n",
        "    \n",
        "    score = ndcg_score([list(y_test.flatten())], [list(predict_score.flatten())], 3)\n",
        "    mean_score += score\n",
        "\n",
        "    rand_score = [np.random.uniform(y_test.min(), y_test.max()) for i in range(len(y_test))]\n",
        "    rand_score = ndcg_score([list(y_test.flatten())], [rand_score], 3)\n",
        "    mean_rand_score += rand_score\n",
        "    \n",
        "    \n",
        "mean_score = mean_score / iterations\n",
        "mean_rand_score = mean_rand_score/ iterations\n",
        "print('Mean score = ', mean_score)\n",
        "print('Random rank score = ', mean_rand_score)\n",
        "\n",
        "df_combine_perform.loc[0, 'DecisionTree'] = mean_score"
      ],
      "execution_count": null,
      "outputs": []
    },
    {
      "cell_type": "code",
      "metadata": {
        "id": "gctOPJttVONT",
        "colab_type": "code",
        "colab": {}
      },
      "source": [
        "feature_importance = pd.DataFrame(index = ['Feature Importance'], columns = features)\n",
        "\n",
        "for i in range(len(features)):\n",
        "  feature_importance.iloc[0, i] = regressor.feature_importances_[i]\n",
        "\n",
        "print(feature_importance.transpose())"
      ],
      "execution_count": null,
      "outputs": []
    },
    {
      "cell_type": "code",
      "metadata": {
        "id": "rA1oaGJ7VQ8y",
        "colab_type": "code",
        "colab": {}
      },
      "source": [
        "from sklearn.svm import SVR\n",
        "\n",
        "svr = SVR(kernel = 'rbf', degree = 10)\n",
        "\n",
        "poly_x, y_data = preprocessing(df_ny_data, ['Density', 'competitiveness'], 10)\n",
        "\n",
        "mean_score = 0\n",
        "mean_rand_score = 0\n",
        "\n",
        "iterations = 1000\n",
        "for iterate in range(iterations):\n",
        "    x_train, x_test, y_train, y_test = train_test_split(poly_x, y_data, test_size = 0.12)\n",
        "\n",
        "    y_train = y_train.flatten()    \n",
        "    svr.fit(x_train, y_train)\n",
        "    predict_score = svr.predict(x_test)\n",
        "    \n",
        "    score = ndcg_score([list(y_test.flatten())], [list(predict_score.flatten())], 4)\n",
        "    mean_score += score\n",
        "\n",
        "    rand_score = [np.random.uniform(y_test.min(), y_test.max()) for i in range(len(y_test))]\n",
        "    rand_score = ndcg_score([list(y_test.flatten())], [rand_score], 4)\n",
        "    mean_rand_score += rand_score\n",
        "    \n",
        "\n",
        "mean_score = mean_score / iterations\n",
        "mean_rand_score = mean_rand_score/ iterations\n",
        "print('Mean score = ', mean_score)\n",
        "print('Random rank score = ', mean_rand_score)"
      ],
      "execution_count": null,
      "outputs": []
    },
    {
      "cell_type": "code",
      "metadata": {
        "id": "HLDsLZfsVTP0",
        "colab_type": "code",
        "colab": {}
      },
      "source": [
        "\n",
        "#define nn\n",
        "from sklearn.neural_network import MLPRegressor\n",
        "import sklearn.neural_network as nn\n",
        "\n",
        "hidden_size = (100, 100, 50)\n",
        "\n",
        "feature = ['Density', 'competitiveness', 'total_compet_rate']\n",
        "\n",
        "nn = MLPRegressor(\n",
        "    hidden_size,\n",
        "    'relu',\n",
        "    'adam',\n",
        "    learning_rate_init = 0.01,\n",
        "    max_iter = 1000\n",
        ")\n",
        "\n",
        "poly_x, y_data = preprocessing(df_ny_data, feature, 10)\n",
        "\n",
        "mean_score = 0\n",
        "mean_rand_score = 0\n",
        "\n",
        "iterations = 1000\n",
        "for iterate in range(iterations):\n",
        "    x_train, x_test, y_train, y_test = train_test_split(poly_x, y_data, test_size = 0.12)\n",
        "\n",
        "    y_train = y_train.flatten()    \n",
        "    nn.fit(x_train, y_train)\n",
        "    predict_score = nn.predict(x_test)\n",
        "    \n",
        "    score = ndcg_score([list(y_test.flatten())], [list(predict_score.flatten())], 4)\n",
        "    mean_score += score\n",
        "\n",
        "    rand_score = [np.random.uniform(-1, 1) for i in range(len(y_test))]\n",
        "    rand_score = ndcg_score([list(y_test.flatten())], [rand_score], 4)\n",
        "    mean_rand_score += rand_score\n",
        "    \n",
        "\n",
        "mean_score = mean_score / iterations\n",
        "mean_rand_score = mean_rand_score/ iterations\n",
        "print('Mean score = ', mean_score)\n",
        "print('Random rank score = ', mean_rand_score)\n"
      ],
      "execution_count": null,
      "outputs": []
    }
  ]
}